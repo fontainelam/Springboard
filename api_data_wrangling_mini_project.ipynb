{
 "cells": [
  {
   "cell_type": "markdown",
   "metadata": {
    "toc": true
   },
   "source": [
    "<h1>Table of Contents<span class=\"tocSkip\"></span></h1>\n",
    "<div class=\"toc\"><ul class=\"toc-item\"><li><span><a href=\"#API-Data-Wrangling-Mini-Project-with-Quandl\" data-toc-modified-id=\"API-Data-Wrangling-Mini-Project-with-Quandl-1\"><span class=\"toc-item-num\">1&nbsp;&nbsp;</span>API Data Wrangling Mini Project with Quandl</a></span><ul class=\"toc-item\"><li><span><a href=\"#Collect-data-for-AFX_X-for-2017\" data-toc-modified-id=\"Collect-data-for-AFX_X-for-2017-1.1\"><span class=\"toc-item-num\">1.1&nbsp;&nbsp;</span>Collect data for AFX_X for 2017</a></span></li><li><span><a href=\"#Convert-returned-JSON-into-a-Python-dictionary\" data-toc-modified-id=\"Convert-returned-JSON-into-a-Python-dictionary-1.2\"><span class=\"toc-item-num\">1.2&nbsp;&nbsp;</span>Convert returned JSON into a Python dictionary</a></span></li><li><span><a href=\"#Calculations\" data-toc-modified-id=\"Calculations-1.3\"><span class=\"toc-item-num\">1.3&nbsp;&nbsp;</span>Calculations</a></span><ul class=\"toc-item\"><li><span><a href=\"#Calculate-highest-and-lowest-opening-prices\" data-toc-modified-id=\"Calculate-highest-and-lowest-opening-prices-1.3.1\"><span class=\"toc-item-num\">1.3.1&nbsp;&nbsp;</span>Calculate highest and lowest opening prices</a></span></li><li><span><a href=\"#Largest-change-in-any-one-day-(based-on-High-and-Low-price)\" data-toc-modified-id=\"Largest-change-in-any-one-day-(based-on-High-and-Low-price)-1.3.2\"><span class=\"toc-item-num\">1.3.2&nbsp;&nbsp;</span>Largest change in any one day (based on High and Low price)</a></span></li><li><span><a href=\"#Largest-change-between-any-two-days-(based-on-Closing-price)\" data-toc-modified-id=\"Largest-change-between-any-two-days-(based-on-Closing-price)-1.3.3\"><span class=\"toc-item-num\">1.3.3&nbsp;&nbsp;</span>Largest change between any two days (based on Closing price)</a></span></li><li><span><a href=\"#Average-daily-trading-volume-in-2017\" data-toc-modified-id=\"Average-daily-trading-volume-in-2017-1.3.4\"><span class=\"toc-item-num\">1.3.4&nbsp;&nbsp;</span>Average daily trading volume in 2017</a></span></li><li><span><a href=\"#Median-trading-volume-in-2017\" data-toc-modified-id=\"Median-trading-volume-in-2017-1.3.5\"><span class=\"toc-item-num\">1.3.5&nbsp;&nbsp;</span>Median trading volume in 2017</a></span></li></ul></li></ul></li></ul></div>"
   ]
  },
  {
   "cell_type": "markdown",
   "metadata": {},
   "source": [
    "# API Data Wrangling Mini Project with Quandl"
   ]
  },
  {
   "cell_type": "markdown",
   "metadata": {},
   "source": [
    "This exercise will require you to pull some data from the Quandl API. Quandl is currently the most widely used aggregator of financial market data."
   ]
  },
  {
   "cell_type": "markdown",
   "metadata": {},
   "source": [
    "As a first step, you will need to register a free account on the http://www.quandl.com website."
   ]
  },
  {
   "cell_type": "markdown",
   "metadata": {},
   "source": [
    "After you register, you will be provided with a unique API key, that you should store:"
   ]
  },
  {
   "cell_type": "code",
   "execution_count": 1,
   "metadata": {},
   "outputs": [],
   "source": [
    "# Store the API key as a string - according to PEP8, constants are always named in all upper case\n",
    "API_KEY = ''"
   ]
  },
  {
   "cell_type": "markdown",
   "metadata": {},
   "source": [
    "Quandl has a large number of data sources, but, unfortunately, most of them require a Premium subscription. Still, there are also a good number of free datasets."
   ]
  },
  {
   "cell_type": "markdown",
   "metadata": {},
   "source": [
    "For this mini project, we will focus on equities data from the Frankfurt Stock Exhange (FSE), which is available for free. We'll try and analyze the stock prices of a company called Carl Zeiss Meditec, which manufactures tools for eye examinations, as well as medical lasers for laser eye surgery: https://www.zeiss.com/meditec/int/home.html. The company is listed under the stock ticker AFX_X."
   ]
  },
  {
   "cell_type": "markdown",
   "metadata": {},
   "source": [
    "You can find the detailed Quandl API instructions here: https://docs.quandl.com/docs/time-series"
   ]
  },
  {
   "cell_type": "markdown",
   "metadata": {},
   "source": [
    "While there is a dedicated Python package for connecting to the Quandl API, we would prefer that you use the *requests* package, which can be easily downloaded using *pip* or *conda*. You can find the documentation for the package here: http://docs.python-requests.org/en/master/ "
   ]
  },
  {
   "cell_type": "markdown",
   "metadata": {},
   "source": [
    "Finally, apart from the *requests* package, you are encouraged to not use any third party Python packages, such as *pandas*, and instead focus on what's available in the Python Standard Library (the *collections* module might come in handy: https://pymotw.com/3/collections/ ).\n",
    "Also, since you won't have access to DataFrames, you are encouraged to use Python's native data structures - preferably dictionaries, though some questions can also be answered using lists.\n",
    "You can read more on these data structures here: https://docs.python.org/3/tutorial/datastructures.html"
   ]
  },
  {
   "cell_type": "markdown",
   "metadata": {},
   "source": [
    "Keep in mind that the JSON responses you will be getting from the API map almost one-to-one to Python's dictionaries. Unfortunately, they can be very nested, so make sure you read up on indexing dictionaries in the documentation provided above."
   ]
  },
  {
   "cell_type": "code",
   "execution_count": 2,
   "metadata": {},
   "outputs": [],
   "source": [
    "# First, import the relevant modules\n",
    "import requests\n"
   ]
  },
  {
   "cell_type": "code",
   "execution_count": 3,
   "metadata": {},
   "outputs": [],
   "source": [
    "# Now, call the Quandl API and pull out a small sample of the data (only one day) to get a glimpse\n",
    "# into the JSON structure that will be returned\n",
    "params = dict(start_date='2020-10-01', end_date='2020-10-08', api_key=API_KEY)\n",
    "\n",
    "request_url = 'https://www.quandl.com/api/v3/datasets/FSE/AFX_X.json'\n",
    "\n",
    "res = requests.get(request_url, params)"
   ]
  },
  {
   "cell_type": "code",
   "execution_count": 4,
   "metadata": {},
   "outputs": [
    {
     "name": "stdout",
     "output_type": "stream",
     "text": [
      "<class 'dict'>\n",
      "{'dataset': {'id': 10095370, 'dataset_code': 'AFX_X', 'database_code': 'FSE', 'name': 'Carl Zeiss Meditec (AFX_X)', 'description': 'Stock Prices for Carl Zeiss Meditec (2020-10-02) from the Frankfurt Stock Exchange.<br><br>Trading System: Xetra<br><br>ISIN: DE0005313704', 'refreshed_at': '2020-10-16T22:16:22.190Z', 'newest_available_date': '2020-10-16', 'oldest_available_date': '2000-06-07', 'column_names': ['Date', 'Open', 'High', 'Low', 'Close', 'Change', 'Traded Volume', 'Turnover', 'Last Price of the Day', 'Daily Traded Units', 'Daily Turnover'], 'frequency': 'daily', 'type': 'Time Series', 'premium': False, 'limit': None, 'transform': None, 'column_index': None, 'start_date': '2020-10-01', 'end_date': '2020-10-08', 'data': [['2020-10-08', 113.1, 114.2, 112.5, 114.0, None, 82897.0, 9427149.9, None, None, None], ['2020-10-07', 112.1, 112.7, 110.7, 112.3, None, 147019.0, 16467208.3, None, None, None], ['2020-10-06', 110.5, 112.0, 110.2, 111.6, None, 143188.0, 15932748.4, None, None, None], ['2020-10-05', 110.0, 111.2, 109.6, 110.3, None, 87815.0, 9697218.6, None, None, None], ['2020-10-02', 108.0, 109.7, 107.3, 109.3, None, 117697.0, 12815711.5, None, None, None], ['2020-10-01', 108.2, 109.8, 107.8, 109.3, None, 121354.0, 13255001.0, None, None, None]], 'collapse': None, 'order': None, 'database_id': 6129}}\n"
     ]
    }
   ],
   "source": [
    "# Inspect the JSON structure of the object you created, and take note of how nested it is,\n",
    "# as well as the overall structure\n",
    "json_dict = res.json()\n",
    "print(type(json_dict))\n",
    "print(json_dict)"
   ]
  },
  {
   "cell_type": "code",
   "execution_count": 5,
   "metadata": {},
   "outputs": [
    {
     "name": "stdout",
     "output_type": "stream",
     "text": [
      "['Date', 'Open', 'High', 'Low', 'Close', 'Change', 'Traded Volume', 'Turnover', 'Last Price of the Day', 'Daily Traded Units', 'Daily Turnover']\n"
     ]
    }
   ],
   "source": [
    "print(json_dict['dataset']['column_names'])"
   ]
  },
  {
   "cell_type": "code",
   "execution_count": 6,
   "metadata": {},
   "outputs": [
    {
     "name": "stdout",
     "output_type": "stream",
     "text": [
      "[['2020-10-08', 113.1, 114.2, 112.5, 114.0, None, 82897.0, 9427149.9, None, None, None], ['2020-10-07', 112.1, 112.7, 110.7, 112.3, None, 147019.0, 16467208.3, None, None, None], ['2020-10-06', 110.5, 112.0, 110.2, 111.6, None, 143188.0, 15932748.4, None, None, None], ['2020-10-05', 110.0, 111.2, 109.6, 110.3, None, 87815.0, 9697218.6, None, None, None], ['2020-10-02', 108.0, 109.7, 107.3, 109.3, None, 117697.0, 12815711.5, None, None, None], ['2020-10-01', 108.2, 109.8, 107.8, 109.3, None, 121354.0, 13255001.0, None, None, None]]\n"
     ]
    }
   ],
   "source": [
    "print(json_dict['dataset']['data'])"
   ]
  },
  {
   "cell_type": "markdown",
   "metadata": {},
   "source": [
    "These are your tasks for this mini project:\n",
    "\n",
    "1. Collect data from the Franfurt Stock Exchange, for the ticker AFX_X, for the whole year 2017 (keep in mind that the date format is YYYY-MM-DD).\n",
    "2. Convert the returned JSON object into a Python dictionary.\n",
    "3. Calculate what the highest and lowest opening prices were for the stock in this period.\n",
    "4. What was the largest change in any one day (based on High and Low price)?\n",
    "5. What was the largest change between any two days (based on Closing Price)?\n",
    "6. What was the average daily trading volume during this year?\n",
    "7. (Optional) What was the median trading volume during this year. (Note: you may need to implement your own function for calculating the median.)"
   ]
  },
  {
   "cell_type": "markdown",
   "metadata": {
    "collapsed": true
   },
   "source": [
    "## Collect data for AFX_X for 2017"
   ]
  },
  {
   "cell_type": "code",
   "execution_count": 7,
   "metadata": {},
   "outputs": [],
   "source": [
    "params = dict(start_date='2017-01-01', end_date='2017-12-31', api_key=API_KEY)\n",
    "\n",
    "request_url = 'https://www.quandl.com/api/v3/datasets/FSE/AFX_X.json'\n",
    "\n",
    "res = requests.get(request_url, params)"
   ]
  },
  {
   "cell_type": "code",
   "execution_count": 8,
   "metadata": {},
   "outputs": [],
   "source": [
    "json_dict = res.json()"
   ]
  },
  {
   "cell_type": "markdown",
   "metadata": {},
   "source": [
    "## Convert returned JSON into a Python dictionary"
   ]
  },
  {
   "cell_type": "code",
   "execution_count": 9,
   "metadata": {},
   "outputs": [],
   "source": [
    "column_names = json_dict['dataset']['column_names']\n",
    "data = json_dict['dataset']['data']"
   ]
  },
  {
   "cell_type": "markdown",
   "metadata": {},
   "source": [
    "## Calculations"
   ]
  },
  {
   "cell_type": "code",
   "execution_count": 10,
   "metadata": {},
   "outputs": [
    {
     "name": "stdout",
     "output_type": "stream",
     "text": [
      "['2017-12-29', '2017-12-28', '2017-12-27', '2017-12-22', '2017-12-21', '2017-12-20', '2017-12-19', '2017-12-18', '2017-12-15', '2017-12-14']\n"
     ]
    }
   ],
   "source": [
    "# It will be easier to handle the calculations by creating a dictionary\n",
    "# where the key = name of the data point\n",
    "# and the value = list containing all the data points\n",
    "# Note that we can do this because time series data from Quandl is ordered\n",
    "pertinent_columns = ['Date', 'Open', 'High', 'Low', 'Close', 'Traded Volume']\n",
    "col_dict = dict()\n",
    "afx_x_data = dict()\n",
    "\n",
    "for col_name in pertinent_columns:\n",
    "    col_index = column_names.index(col_name)\n",
    "    col_dict[col_name] = col_index\n",
    "    afx_x_data[col_name] = list()\n",
    "\n",
    "for daily in data:\n",
    "    for col_name in pertinent_columns:\n",
    "        afx_x_data[col_name].append(daily[col_dict[col_name]])\n",
    "\n",
    "print(afx_x_data['Date'][:10])"
   ]
  },
  {
   "cell_type": "markdown",
   "metadata": {},
   "source": [
    "Note that the resulting data is ordered from most recent to oldest.\n",
    "\n",
    "We will also define the following functions for use in the calculations."
   ]
  },
  {
   "cell_type": "code",
   "execution_count": 11,
   "metadata": {},
   "outputs": [],
   "source": [
    "def find_index_given_value(col_name, value):\n",
    "    # first we need to locate the index\n",
    "    return afx_x_data[col_name].index(value)\n",
    "\n",
    "def find_date_given_value(col_name, value):\n",
    "    index = find_index_given_value(col_name, value)\n",
    "    return get_date_given_index(index)\n",
    "\n",
    "def get_date_given_index(index):\n",
    "    return afx_x_data['Date'][index]\n",
    "\n",
    "# we have to define the following functions because some Open prices are None\n",
    "def get_max_ignore_none(data):\n",
    "    highest_price = data[0]\n",
    "    for d in data[1:]:\n",
    "        if (d is not None) and (highest_price < d):\n",
    "            highest_price = d\n",
    "    return highest_price\n",
    "\n",
    "def get_min_ignore_none(data):\n",
    "    lowest_price = data[0]\n",
    "    for d in data[1:]:\n",
    "        if (d is not None) and (lowest_price > d):\n",
    "            lowest_price = d\n",
    "    return lowest_price"
   ]
  },
  {
   "cell_type": "markdown",
   "metadata": {},
   "source": [
    "### Calculate highest and lowest opening prices"
   ]
  },
  {
   "cell_type": "code",
   "execution_count": 12,
   "metadata": {},
   "outputs": [
    {
     "name": "stdout",
     "output_type": "stream",
     "text": [
      "The highest opening price was 53.11 and occurred on 2017-12-14\n",
      "The lowest opening price was 34.00 and occurred on 2017-01-24\n"
     ]
    }
   ],
   "source": [
    "highest_open = get_max_ignore_none(afx_x_data['Open']) \n",
    "lowest_open = get_min_ignore_none(afx_x_data['Open']) \n",
    "dt_highest_open = find_date_given_value('Open', highest_open)\n",
    "dt_lowest_open = find_date_given_value('Open', lowest_open)\n",
    "\n",
    "print('The highest opening price was {:0,.2f}'.format(highest_open) + ' and occurred on ' + dt_highest_open)\n",
    "print('The lowest opening price was {:0,.2f}'.format(lowest_open) + ' and occurred on ' + dt_lowest_open)"
   ]
  },
  {
   "cell_type": "markdown",
   "metadata": {},
   "source": [
    "### Largest change in any one day (based on High and Low price)"
   ]
  },
  {
   "cell_type": "code",
   "execution_count": 13,
   "metadata": {},
   "outputs": [
    {
     "name": "stdout",
     "output_type": "stream",
     "text": [
      "The largest change in any one day (High and Low price) occurred on 2017-05-11 when the High price was 46.06 and the Low price was 43.25 resulting in a change of 2.81\n"
     ]
    }
   ],
   "source": [
    "# create a new list containing the difference between high and low price\n",
    "diff_high_low = [(high - low) for high, low in zip(afx_x_data['High'], afx_x_data['Low'])]\n",
    "largest_change = max(diff_high_low)\n",
    "dt_index = diff_high_low.index(largest_change)\n",
    "dt_largest_change = get_date_given_index( dt_index )\n",
    "\n",
    "print('The largest change in any one day (High and Low price) occurred on ' + dt_largest_change \n",
    "      + ' when the High price was {:0,.2f}'.format(afx_x_data['High'][dt_index])\n",
    "      + ' and the Low price was {:0,.2f}'.format(afx_x_data['Low'][dt_index])\n",
    "      + ' resulting in a change of {:0,.2f}'.format(round(largest_change,2)) )"
   ]
  },
  {
   "cell_type": "markdown",
   "metadata": {},
   "source": [
    "### Largest change between any two days (based on Closing price)"
   ]
  },
  {
   "cell_type": "code",
   "execution_count": 14,
   "metadata": {},
   "outputs": [
    {
     "name": "stdout",
     "output_type": "stream",
     "text": [
      "The largest change between any two days (based on Closing price) occurred between 2017-08-08 (Close price of 44.37) and 2017-08-09 (Close price of 41.81) resulting in a change of -2.56\n"
     ]
    }
   ],
   "source": [
    "# create a new list containing the difference between two consecutive days' closing price\n",
    "# remember that we can do this because the data is ordered!\n",
    "# also recall that the data is ordered from most recent to least\n",
    "diff_close_abs = [abs(round(day2 - day1,2)) for day2, day1 in zip(afx_x_data['Close'], afx_x_data['Close'][1:])]\n",
    "largest_close_abs = max(diff_close_abs)\n",
    "index = diff_close_abs.index(largest_close_abs)\n",
    "dt_day2 = get_date_given_index( index )\n",
    "dt_day1 = get_date_given_index( index+1 )\n",
    "\n",
    "print('The largest change between any two days (based on Closing price) occurred between ' + dt_day1 \n",
    "      + ' (Close price of {:0,.2f})'.format(afx_x_data['Close'][index+1])\n",
    "      + ' and ' + dt_day2 + ' (Close price of {:0,.2f})'.format(afx_x_data['Close'][index])\n",
    "      + ' resulting in a change of {:0,.2f}'.format(round(afx_x_data['Close'][index] - afx_x_data['Close'][index+1],2)) )"
   ]
  },
  {
   "cell_type": "markdown",
   "metadata": {},
   "source": [
    "### Average daily trading volume in 2017"
   ]
  },
  {
   "cell_type": "code",
   "execution_count": 15,
   "metadata": {},
   "outputs": [
    {
     "name": "stdout",
     "output_type": "stream",
     "text": [
      "The average daily trading volume in 2017 was 89124.33725490196\n"
     ]
    }
   ],
   "source": [
    "avg_volume = sum(afx_x_data['Traded Volume']) / len(afx_x_data['Traded Volume'])\n",
    "\n",
    "print('The average daily trading volume in 2017 was ' + str(avg_volume))"
   ]
  },
  {
   "cell_type": "markdown",
   "metadata": {},
   "source": [
    "### Median trading volume in 2017"
   ]
  },
  {
   "cell_type": "code",
   "execution_count": 16,
   "metadata": {},
   "outputs": [
    {
     "name": "stdout",
     "output_type": "stream",
     "text": [
      "The median trading volume in 2017 was 76600.0\n"
     ]
    }
   ],
   "source": [
    "sorted_volume = sorted(afx_x_data['Traded Volume'])\n",
    "median_volume = 0\n",
    "if ( len(sorted_volume)%2 == 0 ):\n",
    "    # there are an even number of days, and the median will be the average of two days\n",
    "    median_volume = (sorted_volume[len(sorted_volume)//2] + sorted_volume[len(sorted_volume)//2 - 1])/2 \n",
    "else:\n",
    "    # for an odd number of days, we need to round up\n",
    "    median_volume = sorted_volume[(len(sorted_volume)+1)//2] \n",
    "\n",
    "print('The median trading volume in 2017 was ' + str(median_volume))"
   ]
  }
 ],
 "metadata": {
  "kernelspec": {
   "display_name": "Python 3",
   "language": "python",
   "name": "python3"
  },
  "language_info": {
   "codemirror_mode": {
    "name": "ipython",
    "version": 3
   },
   "file_extension": ".py",
   "mimetype": "text/x-python",
   "name": "python",
   "nbconvert_exporter": "python",
   "pygments_lexer": "ipython3",
   "version": "3.8.3"
  },
  "toc": {
   "base_numbering": 1,
   "nav_menu": {},
   "number_sections": true,
   "sideBar": true,
   "skip_h1_title": false,
   "title_cell": "Table of Contents",
   "title_sidebar": "Contents",
   "toc_cell": true,
   "toc_position": {},
   "toc_section_display": true,
   "toc_window_display": false
  }
 },
 "nbformat": 4,
 "nbformat_minor": 2
}
